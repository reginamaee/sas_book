{
 "cells": [
  {
   "cell_type": "markdown",
   "id": "c095e547-162e-4503-923e-73470b69732f",
   "metadata": {},
   "source": [
    "# Plotting and Graphing in SAS\n",
    "\n",
    "Let's review the `proc freq` step. Recall that the `PROC FREQ` procedure generates frequency tables for categorical variables, showing the counts, percentages, and relationships between categories.\n",
    "\n",
    ":::{admonition} *General `PROC FREQ` syntax*:\r\n",
    ":class: tip\r",
    "```\n",
    "PROC FREQ DATA=input-table <options>;\n",
    "    TABLES column-name(s) / <table-options>;\n",
    "RUN;\n",
    "```on.\r",
    "a\n",
    "```\n"
   ]
  }
 ],
 "metadata": {
  "kernelspec": {
   "display_name": "SAS",
   "language": "sas",
   "name": "sas"
  },
  "language_info": {
   "codemirror_mode": "sas",
   "file_extension": ".sas",
   "mimetype": "text/x-sas",
   "name": "sas"
  }
 },
 "nbformat": 4,
 "nbformat_minor": 5
}