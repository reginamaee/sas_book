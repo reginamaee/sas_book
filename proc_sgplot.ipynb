{
 "cells": [
  {
   "cell_type": "markdown",
   "id": "5dee9f4b-6614-402f-a9d7-ed3f8d12e3e8",
   "metadata": {},
   "source": [
    "# PROC SGPLOT\n",
    "\n",
    "In the previous section, we explored creating bar graphs within a `proc freq` step. However, this approach offers limited customization options. By using a different procedure, `proc sgplot`, we can easily produce a wide range of high-quality statistical graphics with greater flexibility and layering options. This procedure is commonly used to generate scatter plots, bar charts, line plots, histograms, box plots, and more. It is part of the SAS ODS Graphics system, which allows users to visualize data effectively for analysis and reporting."
   ]
  },
  {
   "cell_type": "markdown",
   "id": "aad84d84-75c5-4810-b703-f2d7b8eed186",
   "metadata": {},
   "source": [
    ":::{admonition} *General `PROC SGPLOT` statement*\n",
    ":class: dropdown\n",
    "\n",
    "```\n",
    "PROC SGPLOT DATA = input-table <options>;\n",
    "     plot statement(s) / <options>;\n",
    "    <appearance statements>;\n",
    "   <additional filtering/formatting/etc>;\n",
    "RUN;\n",
    "\n",
    "```\n",
    "1. `PROC SGPLOT DATA = input-table <options>;`\n",
    "   - `PROC SGPLOT` starts the procedure, and `DATA = input-table` specifies the dataset you want to use for the plot\n",
    "   - `<options>` within PROC SGPLOT can include additional procedure-level settings\n",
    "2. `plot statement(s) / <options>;`\n",
    "   - The `plot statement(s)` specify the type of plot you want to create, such as scatter, vbar, hbar, series, or histograms. Multiple plot statements can be included to layer different types of graphs on the same chart.\n",
    "   - The `/ <options>` allows for plot-specific customization, such as setting labels, colors, markers, or axis opti\n",
    "3. `<appearance statements>;`\n",
    "   - these statements control the overall appearance of the plot, such as adding titles, labels, legends, or setting axis attributes\n",
    "5. `<additional filtering/formatting/etc>`\n",
    "   - this section can include additional options to refine the plot, including filtering data, formatting the value output."
   ]
  },
  {
   "cell_type": "code",
   "execution_count": null,
   "id": "def8749d-6adf-4696-83c0-26145480cda2",
   "metadata": {},
   "outputs": [],
   "source": []
  }
 ],
 "metadata": {
  "kernelspec": {
   "display_name": "SAS",
   "language": "sas",
   "name": "sas"
  },
  "language_info": {
   "codemirror_mode": "sas",
   "file_extension": ".sas",
   "mimetype": "text/x-sas",
   "name": "sas"
  }
 },
 "nbformat": 4,
 "nbformat_minor": 5
}
