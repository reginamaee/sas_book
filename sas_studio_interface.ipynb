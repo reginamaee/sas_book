{
 "cells": [
  {
   "cell_type": "markdown",
   "id": "2df8a496-2eb0-4011-af2d-6630dde39497",
   "metadata": {},
   "source": [
    "# Intro to SAS Studio\n",
    "## SAS Studio Interface"
   ]
  },
  {
   "cell_type": "markdown",
   "id": "8636964b-0c9a-4296-bd0c-d4734cf4247e",
   "metadata": {},
   "source": [
    "SAS studio is an online development application that allows you to run and process SAS code on a cloud server.\n"
   ]
  },
  {
   "cell_type": "markdown",
   "id": "41dfeff0",
   "metadata": {},
   "source": [
    "<img src =/Users/rdominguez/Documents/MA505/sas_book/_static/sas_studio.png width=\"700\">"
   ]
  },
  {
   "cell_type": "markdown",
   "id": "0942aab8-6b27-4f13-bd4e-c7913e5347b8",
   "metadata": {},
   "source": [
    "Within SAS studio, you have the navigation pane where you can find all of your libraries and files. The editior contains the code editor window, log, and output/results. When you run code in SAS, you will always get an output in the log window. The log window will contain notes, warnings, and errors relating to the code execution. Notes, anything that SAS wants to tell you are always in blue, warnings in green, and errors are in red."
   ]
  }
 ],
 "metadata": {
  "kernelspec": {
   "display_name": "SAS",
   "language": "sas",
   "name": "sas"
  },
  "language_info": {
   "codemirror_mode": "sas",
   "file_extension": ".sas",
   "mimetype": "text/x-sas",
   "name": "sas"
  }
 },
 "nbformat": 4,
 "nbformat_minor": 5
}
